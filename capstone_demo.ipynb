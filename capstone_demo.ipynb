{
 "cells": [
  {
   "cell_type": "code",
   "execution_count": 3,
   "id": "f4f5a050",
   "metadata": {},
   "outputs": [],
   "source": [
    "import csv\n",
    "import os\n",
    "import shutil"
   ]
  },
  {
   "cell_type": "code",
   "execution_count": 4,
   "id": "0d7d5c34",
   "metadata": {},
   "outputs": [],
   "source": [
    "def process_csv(filename):\n",
    "    example_file = open(filename, encoding=\"utf-8\")\n",
    "    example_reader = csv.reader(example_file)\n",
    "    example_data = list(example_reader)\n",
    "    example_file.close()\n",
    "    return example_data"
   ]
  },
  {
   "cell_type": "code",
   "execution_count": 5,
   "id": "48dfe67e",
   "metadata": {},
   "outputs": [
    {
     "name": "stdout",
     "output_type": "stream",
     "text": [
      "Please enter file name: key_metrics.csv\n",
      "\n",
      "Please enter the source location: /Users/axl115/Documents/Digital Builder/Capstone/Migration/Location1\n",
      "\n",
      "Please enter the destination location: /Users/axl115/Documents/Digital Builder/Capstone/Migration/Location2\n",
      "\n",
      "The file has been copied and migrated successfully\n"
     ]
    }
   ],
   "source": [
    "def copy_file():\n",
    "    file_name = input(\"Please enter file name: \")\n",
    "    source = input(\"\\nPlease enter the source location: \")\n",
    "    destination = input(\"\\nPlease enter the destination location: \")\n",
    "    \n",
    "    source_file =  os.path.join(source,file_name)\n",
    "    destination_file = os.path.join(destination,file_name)\n",
    "    \n",
    "    if os.path.exists(source_file):  \n",
    "        \n",
    "        shutil.copy(source_file, destination_file)\n",
    "        \n",
    "        file1 = process_csv(source_file)\n",
    "        file1_length = len(file1)\n",
    "\n",
    "        file2 = process_csv(destination_file)\n",
    "        file2_length = len(file2)\n",
    "        \n",
    "        if file1_length == file2_length:\n",
    "            print(\"\\nThe file has been copied and migrated successfully\")\n",
    "            \n",
    "        else:\n",
    "            print(\"\\nError!! The file has not been migrated!!\")\n",
    "        \n",
    "    else:\n",
    "        print(\"\\nError!! File was not found in source location!!\")\n",
    "        \n",
    "copy_file()\n"
   ]
  },
  {
   "cell_type": "code",
   "execution_count": null,
   "id": "cb4ca284",
   "metadata": {},
   "outputs": [],
   "source": [
    "#/Users/axl115/Documents/Digital Builder/Capstone/Migration/Location1\n"
   ]
  }
 ],
 "metadata": {
  "kernelspec": {
   "display_name": "Python 3 (ipykernel)",
   "language": "python",
   "name": "python3"
  },
  "language_info": {
   "codemirror_mode": {
    "name": "ipython",
    "version": 3
   },
   "file_extension": ".py",
   "mimetype": "text/x-python",
   "name": "python",
   "nbconvert_exporter": "python",
   "pygments_lexer": "ipython3",
   "version": "3.9.7"
  }
 },
 "nbformat": 4,
 "nbformat_minor": 5
}
