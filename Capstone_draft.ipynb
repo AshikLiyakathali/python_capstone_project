{
 "cells": [
  {
   "cell_type": "code",
   "execution_count": 2,
   "id": "353726c4",
   "metadata": {},
   "outputs": [],
   "source": [
    "import csv\n",
    "import os"
   ]
  },
  {
   "cell_type": "code",
   "execution_count": 3,
   "id": "461dd5c3",
   "metadata": {},
   "outputs": [],
   "source": [
    "#help(csv)"
   ]
  },
  {
   "cell_type": "code",
   "execution_count": null,
   "id": "a2b95837",
   "metadata": {},
   "outputs": [],
   "source": []
  },
  {
   "cell_type": "code",
   "execution_count": 5,
   "id": "087c6ed1",
   "metadata": {},
   "outputs": [],
   "source": [
    "#csv_data = process_csv('cs220_survey_data.csv')\n",
    "#csv_data"
   ]
  },
  {
   "cell_type": "code",
   "execution_count": 6,
   "id": "90ed9194",
   "metadata": {},
   "outputs": [],
   "source": [
    "def copy_CSV_sorcetodestination(file_name,source,destination):\n",
    "    source_file =  os.path.join(source,file_name)\n",
    "    if os.path.exists(source_file):  \n",
    "        file_source = open(source_file,encoding=\"utf-8\")\n",
    "        file_reader = csv.reader(file_source)\n",
    "        file_list = list(file_reader)\n",
    "        file_source.close()\n",
    "        file_destination = os.path.join(destination,file_name)\n",
    "        file_write = open(file_destination,'w',encoding='utf-8',newline='')\n",
    "        csv_writer = csv.writer(file_write)\n",
    "        for i in range(len(file_list)):\n",
    "            csv_writer.writerow(file_list[i])\n",
    "        file_write.close()\n",
    "    else:\n",
    "        print(\"File not found in source location!\")\n",
    "    \n",
    "#copy_CSV_sorcetodestination('cs220_survey_data.csv','C:/Users/supriya.vemula/OneDrive - homesite.com/Desktop/Supriya/Digital Builder','C:/Users/supriya.vemula/OneDrive - homesite.com/Documents')"
   ]
  },
  {
   "cell_type": "code",
   "execution_count": 7,
   "id": "ffe10938",
   "metadata": {},
   "outputs": [
    {
     "name": "stdout",
     "output_type": "stream",
     "text": [
      "please enter file namecs220_survey_data.csv\n",
      "please enter source locationC:\\Users\\supriya.vemula\\OneDrive - homesite.com\\Desktop\\Supriya\\Digital Builder\n",
      "please enter destination locationC:\\Users\\supriya.vemula\\OneDrive - homesite.com\\Desktop\\Supriya\\Digital Builder\\Lectures\\Lect 2-11\n"
     ]
    }
   ],
   "source": [
    "file_name = input(\"please enter file name\")\n",
    "source_location = input(\"please enter source location\")\n",
    "destination_location = input(\"please enter destination location\")\n",
    "\n",
    "copy_CSV_sorcetodestination(file_name,source_location,destination_location)\n"
   ]
  },
  {
   "cell_type": "code",
   "execution_count": null,
   "id": "cac5a2cf",
   "metadata": {},
   "outputs": [],
   "source": []
  }
 ],
 "metadata": {
  "kernelspec": {
   "display_name": "Python 3 (ipykernel)",
   "language": "python",
   "name": "python3"
  },
  "language_info": {
   "codemirror_mode": {
    "name": "ipython",
    "version": 3
   },
   "file_extension": ".py",
   "mimetype": "text/x-python",
   "name": "python",
   "nbconvert_exporter": "python",
   "pygments_lexer": "ipython3",
   "version": "3.9.7"
  }
 },
 "nbformat": 4,
 "nbformat_minor": 5
}
