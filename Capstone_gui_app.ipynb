{
 "cells": [
  {
   "cell_type": "code",
   "execution_count": 20,
   "id": "353726c4",
   "metadata": {},
   "outputs": [],
   "source": [
    "import os\n",
    "import shutil\n",
    "import tkinter as tk\n",
    "\n",
    "from tkinter import filedialog, Text"
   ]
  },
  {
   "cell_type": "code",
   "execution_count": null,
   "id": "461dd5c3",
   "metadata": {},
   "outputs": [],
   "source": [
    "root = tk.Tk()\n",
    "\n",
    "apps = []\n",
    "\n",
    "def addApp():\n",
    "    \n",
    "    for widget in frame.winfo_children():\n",
    "        widget.destroy()\n",
    "        \n",
    "    filename = filedialog.askopenfilename(initialdir = '/', title = 'Select File', \n",
    "                                         filetypes = ((\"applications\", \"*.app\"), (\"all files\", \"*.*\")))\n",
    "\n",
    "    apps.append(filename)\n",
    "    print(filename)\n",
    "    \n",
    "    for app in apps:\n",
    "        label = tk.Label(frame, text = app, bg = 'grey')\n",
    "        label.pack()\n",
    "        \n",
    "def runApps():\n",
    "    \n",
    "    for app in apps:\n",
    "        os.startfile(app)\n",
    "        \n",
    "canvas = tk.Canvas(root, height = 700, width = 700, bg = \"grey\")\n",
    "canvas.pack()\n",
    "\n",
    "frame = tk.Frame(root, bg = 'white')\n",
    "frame.place(relwidth = 0.8, relheight = 0.8, relx = 0.1, rely = 0.1)\n",
    "\n",
    "openFile = tk.Button(root, text = \"Open File\", padx = 10, \n",
    "                     pady = 5, fg= 'white', bg = 'grey', command = addApp)\n",
    "\n",
    "openFile.pack()\n",
    "\n",
    "runApps = tk.Button(root, text = \"Run Apps\", padx = 10, \n",
    "                    pady = 5, fg= 'white', bg = 'grey', command = runApps)\n",
    "\n",
    "runApps.pack()\n",
    "\n",
    "\n",
    "root.mainloop()"
   ]
  },
  {
   "cell_type": "code",
   "execution_count": null,
   "id": "087c6ed1",
   "metadata": {},
   "outputs": [],
   "source": []
  },
  {
   "cell_type": "code",
   "execution_count": null,
   "id": "90ed9194",
   "metadata": {},
   "outputs": [],
   "source": []
  },
  {
   "cell_type": "code",
   "execution_count": 29,
   "id": "cac5a2cf",
   "metadata": {},
   "outputs": [],
   "source": [
    "# File migration within local\n",
    "\n",
    "root = tk.Tk()\n",
    "\n",
    "def select_file():\n",
    "    \n",
    "#     for widget in frame.winfo_children():\n",
    "#         widget.destroy()\n",
    "        \n",
    "    filename = filedialog.askopenfilename(initialdir = '/', title = 'Select File', \n",
    "                                         filetypes = ((\"applications\", \"*.app\"), (\"all files\", \"*.*\")))\n",
    "\n",
    "    print(filename)\n",
    "    \n",
    "    label = tk.Label(frame, text = \"The location is : \\n\" + filename, bg = 'grey')\n",
    "    label.pack()\n",
    "        \n",
    "canvas = tk.Canvas(root, height = 700, width = 700, bg = \"grey\")\n",
    "canvas.pack()\n",
    "\n",
    "frame = tk.Frame(root, bg = 'white')\n",
    "frame.place(relwidth = 0.8, relheight = 0.8, relx = 0.1, rely = 0.1)\n",
    "\n",
    "selectSrcFile = tk.Button(root, text = \"Select Source File\", padx = 10, \n",
    "                     pady = 5, fg= 'white', bg = 'red', command = select_file)\n",
    "\n",
    "selectSrcFile.pack()\n",
    "\n",
    "selectDst = tk.Button(root, text = \"Select Destination\", padx = 10, \n",
    "                     pady = 5, fg= 'white', bg = 'red', command = select_file)\n",
    "\n",
    "selectDst.pack()\n",
    "\n",
    "runApps = tk.Button(root, text = \"Run Apps\", padx = 10, \n",
    "                    pady = 5, fg= 'white', bg = 'grey', command = runApps)\n",
    "\n",
    "runApps.pack()\n",
    "\n",
    "\n",
    "root.mainloop()"
   ]
  },
  {
   "cell_type": "code",
   "execution_count": null,
   "id": "b449c9bc",
   "metadata": {},
   "outputs": [],
   "source": []
  },
  {
   "cell_type": "code",
   "execution_count": null,
   "id": "c13de8d6",
   "metadata": {},
   "outputs": [],
   "source": []
  },
  {
   "cell_type": "code",
   "execution_count": null,
   "id": "3611827b",
   "metadata": {},
   "outputs": [],
   "source": []
  },
  {
   "cell_type": "code",
   "execution_count": null,
   "id": "0ea9083b",
   "metadata": {},
   "outputs": [],
   "source": []
  },
  {
   "cell_type": "code",
   "execution_count": null,
   "id": "40a8852b",
   "metadata": {},
   "outputs": [],
   "source": []
  },
  {
   "cell_type": "code",
   "execution_count": null,
   "id": "2aa4a546",
   "metadata": {},
   "outputs": [],
   "source": []
  },
  {
   "cell_type": "code",
   "execution_count": null,
   "id": "a420b023",
   "metadata": {},
   "outputs": [],
   "source": []
  },
  {
   "cell_type": "code",
   "execution_count": null,
   "id": "05280418",
   "metadata": {},
   "outputs": [],
   "source": []
  }
 ],
 "metadata": {
  "kernelspec": {
   "display_name": "Python 3 (ipykernel)",
   "language": "python",
   "name": "python3"
  },
  "language_info": {
   "codemirror_mode": {
    "name": "ipython",
    "version": 3
   },
   "file_extension": ".py",
   "mimetype": "text/x-python",
   "name": "python",
   "nbconvert_exporter": "python",
   "pygments_lexer": "ipython3",
   "version": "3.9.7"
  }
 },
 "nbformat": 4,
 "nbformat_minor": 5
}
