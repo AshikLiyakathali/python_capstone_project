{
 "cells": [
  {
   "cell_type": "code",
   "execution_count": 21,
   "id": "f4f5a050",
   "metadata": {},
   "outputs": [],
   "source": [
    "import csv\n",
    "import os\n",
    "import shutil"
   ]
  },
  {
   "cell_type": "code",
   "execution_count": 22,
   "id": "0d7d5c34",
   "metadata": {},
   "outputs": [],
   "source": [
    "def process_csv(filename):\n",
    "    example_file = open(filename, encoding=\"utf-8\")\n",
    "    example_reader = csv.reader(example_file)\n",
    "    example_data = list(example_reader)\n",
    "    example_file.close()\n",
    "    return example_data"
   ]
  },
  {
   "cell_type": "code",
   "execution_count": 23,
   "id": "bad3b4b0",
   "metadata": {},
   "outputs": [],
   "source": [
    "# Key Metrics\n",
    "\n",
    "key_metrics = process_csv(\"key_metrics.csv\")\n",
    "\n",
    "key_metrics_header = key_metrics[0]\n",
    "\n",
    "key_metrics_data = key_metrics[1:]\n",
    "\n",
    "# Product Mapping\n",
    "\n",
    "prod_map = process_csv(\"product_mapping.csv\")\n",
    "\n",
    "prod_map_header = prod_map[0]\n",
    "\n",
    "prod_map_data = prod_map[1:]\n",
    "\n",
    "# Date Workday\n",
    "\n",
    "date_workday = process_csv(\"d_date_workdays.csv\")\n",
    "\n",
    "date_workday_header = date_workday[0]\n",
    "\n",
    "date_workday_data = date_workday[1:]\n"
   ]
  },
  {
   "cell_type": "code",
   "execution_count": 24,
   "id": "6e35c280",
   "metadata": {},
   "outputs": [],
   "source": [
    "# Using the cell function to access the data in a specific cell\n",
    "\n",
    "def cell(row_idx, col_name):\n",
    "    \"\"\"\n",
    "    Returns the data value (cell) corresponding to the row index and \n",
    "    the column name of a CSV file.\n",
    "    \"\"\"\n",
    "    col_idx = key_metrics_header.index(col_name)\n",
    "    val = key_metrics_data[row_idx][col_idx]\n",
    "\n",
    "    if val == \"\": \n",
    "        return None\n",
    "    \n",
    "    return val\n"
   ]
  },
  {
   "cell_type": "code",
   "execution_count": 25,
   "id": "dc49336b",
   "metadata": {},
   "outputs": [
    {
     "data": {
      "text/plain": [
       "['regn_nm',\n",
       " 'sales_state_nm',\n",
       " 'classic_dst_cd',\n",
       " 'mo_id',\n",
       " 'mo_beg_dt',\n",
       " 'super_line_split',\n",
       " 'pg_sub_line_rollup',\n",
       " 'product_line_type_cd',\n",
       " 'sale_prem_amt',\n",
       " 'serv_prem_amt',\n",
       " 'item_inforce_cnt',\n",
       " 'nbp_cnt',\n",
       " 'beg_unif_pif_cnt',\n",
       " 'retained_unif_pif_cnt']"
      ]
     },
     "execution_count": 25,
     "metadata": {},
     "output_type": "execute_result"
    }
   ],
   "source": [
    "key_metrics_header"
   ]
  },
  {
   "cell_type": "code",
   "execution_count": 26,
   "id": "ed451dfa",
   "metadata": {},
   "outputs": [
    {
     "data": {
      "text/plain": [
       "['product_line_type_cd',\n",
       " 'product_line_cd',\n",
       " 'product_type_cd',\n",
       " 'super_line',\n",
       " 'company_line',\n",
       " 'major_line',\n",
       " 'pg_sub_line',\n",
       " 'line_type_desc',\n",
       " 'planning_category',\n",
       " 'pg_sub_line_rollup',\n",
       " 'super_line_split']"
      ]
     },
     "execution_count": 26,
     "metadata": {},
     "output_type": "execute_result"
    }
   ],
   "source": [
    "prod_map_header"
   ]
  },
  {
   "cell_type": "code",
   "execution_count": 27,
   "id": "475a5d73",
   "metadata": {},
   "outputs": [
    {
     "data": {
      "text/plain": [
       "['dt_id',\n",
       " 'mo_beg_dt',\n",
       " 'full_dt',\n",
       " 'workdays_in_mo',\n",
       " 'workday_of_mo',\n",
       " 'pct_workday_complete',\n",
       " 'qtr_beg_dt',\n",
       " 'workday_of_qtr',\n",
       " 'workdays_in_qtr',\n",
       " 'pct_qtr_workday_complete',\n",
       " 'semi_beg_dt',\n",
       " 'workday_of_semi',\n",
       " 'workdays_in_semi',\n",
       " 'pct_semi_workday_complete',\n",
       " 'yr_beg_dt',\n",
       " 'workday_of_yr',\n",
       " 'workdays_in_yr',\n",
       " 'pct_yr_workday_complete']"
      ]
     },
     "execution_count": 27,
     "metadata": {},
     "output_type": "execute_result"
    }
   ],
   "source": [
    "date_workday_header"
   ]
  },
  {
   "cell_type": "code",
   "execution_count": 28,
   "id": "80a4cd44",
   "metadata": {},
   "outputs": [
    {
     "data": {
      "text/plain": [
       "53633"
      ]
     },
     "execution_count": 28,
     "metadata": {},
     "output_type": "execute_result"
    }
   ],
   "source": [
    "length = len(key_metrics_data)\n",
    "length"
   ]
  },
  {
   "cell_type": "code",
   "execution_count": 29,
   "id": "908c3112",
   "metadata": {},
   "outputs": [
    {
     "data": {
      "text/plain": [
       "[['Central Region',\n",
       "  'Dakotas',\n",
       "  '386',\n",
       "  '202,112',\n",
       "  '12/1/2021',\n",
       "  'Health',\n",
       "  'Health',\n",
       "  '0536',\n",
       "  '0',\n",
       "  '909.62',\n",
       "  '',\n",
       "  '',\n",
       "  '',\n",
       "  '']]"
      ]
     },
     "execution_count": 29,
     "metadata": {},
     "output_type": "execute_result"
    }
   ],
   "source": [
    "key_metrics_data[:1]"
   ]
  },
  {
   "cell_type": "code",
   "execution_count": 30,
   "id": "2b61977d",
   "metadata": {},
   "outputs": [
    {
     "name": "stdout",
     "output_type": "stream",
     "text": [
      "['Health', 'Life', 'Auto', 'Commercial', 'Property', 'Farm/Ranch', 'Brokerage', 'The General']\n",
      "23807\n"
     ]
    }
   ],
   "source": [
    "# Retention\n",
    "\n",
    "# Retention = sum of retained/ sum of beginning\n",
    "\n",
    "count = 0\n",
    "line_list = []\n",
    "\n",
    "for row_idx in range(length):\n",
    "    begin = cell(row_idx, 'beg_unif_pif_cnt')\n",
    "    retain = cell(row_idx, 'retained_unif_pif_cnt')\n",
    "    date = cell(row_idx, 'mo_beg_dt')\n",
    "    line = cell(row_idx, 'super_line_split')\n",
    "    \n",
    "    if line not in line_list:\n",
    "        line_list.append(line)\n",
    "        \n",
    "    if begin == None or retain == None:\n",
    "        continue\n",
    "    \n",
    "    count += 1\n",
    "\n",
    "    retention = 1#int(retain) / int(begin)\n",
    "    \n",
    "    #print(\"Count: \", count, \"Date: \", date, \"\\tBeginning: \", begin, \"\\tRetained: \", retain, \"\\tRetention: \", retention)\n",
    "\n",
    "print(line_list)\n",
    "print(count)\n"
   ]
  },
  {
   "cell_type": "code",
   "execution_count": null,
   "id": "f176566e",
   "metadata": {},
   "outputs": [],
   "source": []
  },
  {
   "cell_type": "code",
   "execution_count": 31,
   "id": "3fcf7ee9",
   "metadata": {},
   "outputs": [],
   "source": [
    "# Moving files\n",
    "\n",
    "# 1. Moving one file from Location 1 to Location 2\n",
    "\n",
    "# absolute path\n",
    "\n",
    "# src_path = r\"/Users/axl115/Documents/Digital Builder Program/Capstone/Migration/Location4/key_metrics.csv\"\n",
    "\n",
    "# dst_path = r\"/Users/axl115/Documents/Digital Builder Program/Capstone/Migration/Location1/key_metrics.csv\"\n",
    "\n",
    "# shutil.move(src_path, dst_path)\n"
   ]
  },
  {
   "cell_type": "code",
   "execution_count": null,
   "id": "a3c4230f",
   "metadata": {},
   "outputs": [],
   "source": []
  },
  {
   "cell_type": "code",
   "execution_count": 14,
   "id": "62252d12",
   "metadata": {},
   "outputs": [
    {
     "data": {
      "text/plain": [
       "'/Users/axl115/Documents/Digital Builder Program/Capstone/Migration/Location1/key_metrics.csv'"
      ]
     },
     "execution_count": 14,
     "metadata": {},
     "output_type": "execute_result"
    }
   ],
   "source": [
    "# Copying files\n",
    "\n",
    "# 1. Copying one file from Location 1 to Location 2\n",
    "\n",
    "# absolute path\n",
    "\n",
    "src_path = r\"/Users/axl115/Documents/Digital Builder Program/Capstone/Migration/Location4/key_metrics.csv\"\n",
    "\n",
    "dst_path = r\"/Users/axl115/Documents/Digital Builder Program/Capstone/Migration/Location1/key_metrics.csv\"\n",
    "\n",
    "shutil.copy(src_path, dst_path)\n"
   ]
  },
  {
   "cell_type": "code",
   "execution_count": 34,
   "id": "fa42d601",
   "metadata": {},
   "outputs": [
    {
     "ename": "AttributeError",
     "evalue": "module 'posixpath' has no attribute 'find'",
     "output_type": "error",
     "traceback": [
      "\u001b[0;31m---------------------------------------------------------------------------\u001b[0m",
      "\u001b[0;31mAttributeError\u001b[0m                            Traceback (most recent call last)",
      "\u001b[0;32m/var/folders/bp/j6lbgfvx5p14h_sr80tjn08c0000gp/T/ipykernel_4984/2172972063.py\u001b[0m in \u001b[0;36m<module>\u001b[0;34m\u001b[0m\n\u001b[1;32m      5\u001b[0m \u001b[0mpath\u001b[0m\u001b[0;34m\u001b[0m\u001b[0;34m\u001b[0m\u001b[0m\n\u001b[1;32m      6\u001b[0m \u001b[0;34m\u001b[0m\u001b[0m\n\u001b[0;32m----> 7\u001b[0;31m \u001b[0ma\u001b[0m \u001b[0;34m=\u001b[0m \u001b[0mos\u001b[0m\u001b[0;34m.\u001b[0m\u001b[0mpath\u001b[0m\u001b[0;34m.\u001b[0m\u001b[0mfind\u001b[0m\u001b[0;34m(\u001b[0m\u001b[0;34m\"\"\u001b[0m\u001b[0;34m)\u001b[0m\u001b[0;34m\u001b[0m\u001b[0;34m\u001b[0m\u001b[0m\n\u001b[0m",
      "\u001b[0;31mAttributeError\u001b[0m: module 'posixpath' has no attribute 'find'"
     ]
    }
   ],
   "source": [
    "src_path = os.listdir(\"../\")\n",
    "src_path\n",
    "\n",
    "path = os.path.join(\"../Migration/Location1\", \"key_metrics.csv\")\n",
    "path\n"
   ]
  },
  {
   "cell_type": "code",
   "execution_count": 38,
   "id": "fe336dee",
   "metadata": {},
   "outputs": [
    {
     "name": "stdout",
     "output_type": "stream",
     "text": [
      "Source path is: /Users/axl115/Documents/Digital Builder Program/Capstone/Migration/Location1/key_metrics.csv \n",
      "The Destination path is: /Users/axl115/Documents/Digital Builder Program/Capstone/Migration/Location1/key_metrics.csv\n"
     ]
    }
   ],
   "source": [
    "# Function to copy a file from Location1 to Location2\n",
    "\n",
    "# src_path = input(\"Enter the absolute path of Source Directory: \")\n",
    "\n",
    "# dst_path = input(\"Enter the absolute path of Destination Directory: \")\n",
    "\n",
    "# file = input(\"Enter the file that needs to be moved\")\n",
    "\n",
    "def copy_file(file, src, dst):\n",
    "    src_path = os.path.join(src, file)\n",
    "    dst_path = os.path.join(src, file)\n",
    "    \n",
    "    print(\"Source path is:\", src_path, \"\\n\" + \"The Destination path is:\", dst_path)\n",
    "    #shutil.copy(src_path, dst_path)\n",
    "\n",
    "    \n",
    "    return None\n",
    "    \n",
    "copy_file(\"key_metrics.csv\", \"/Users/axl115/Documents/Digital Builder Program/Capstone/Migration/Location1\", \"/Users/axl115/Documents/Digital Builder Program/Capstone/Migration/Location2\")\n",
    "\n",
    "    "
   ]
  },
  {
   "cell_type": "code",
   "execution_count": 44,
   "id": "48dfe67e",
   "metadata": {},
   "outputs": [
    {
     "name": "stdout",
     "output_type": "stream",
     "text": [
      "Enter the file that needs to be moved: key_metrics.csv\n",
      "\n",
      "Enter the absolute path of Source Directory: /Users/axl115/Documents/Digital Builder Program/Capstone/Migration/Location1\n",
      "\n",
      "Enter the absolute path of Destination Directory: /Users/axl115/Documents/Digital Builder Program/Capstone/Migration/Location2\n",
      "\n",
      "Source path is: /Users/axl115/Documents/Digital Builder Program/Capstone/Migration/Location1/key_metrics.csv \n",
      "Destination path is: /Users/axl115/Documents/Digital Builder Program/Capstone/Migration/Location2/key_metrics.csv\n"
     ]
    },
    {
     "data": {
      "text/plain": [
       "'File has been copied and migrated successfully'"
      ]
     },
     "execution_count": 44,
     "metadata": {},
     "output_type": "execute_result"
    }
   ],
   "source": [
    "\n",
    "def copy_file():\n",
    "    file = input(\"Enter the file that needs to be moved: \")\n",
    "\n",
    "    src = input(\"\\nEnter the absolute path of Source Directory: \")\n",
    "    dst = input(\"\\nEnter the absolute path of Destination Directory: \")\n",
    "        \n",
    "    src_path = os.path.join(src, file)\n",
    "    dst_path = os.path.join(dst, file)\n",
    "    \n",
    "    print(\"\\nSource path is:\", src_path, \"\\nDestination path is:\", dst_path)\n",
    "    \n",
    "    shutil.copy(src_path, dst_path)\n",
    "\n",
    "    return \"File has been copied and migrated successfully\"\n",
    "    \n",
    "copy_file()"
   ]
  },
  {
   "cell_type": "code",
   "execution_count": null,
   "id": "c0fd22fe",
   "metadata": {},
   "outputs": [],
   "source": []
  },
  {
   "cell_type": "code",
   "execution_count": null,
   "id": "92d5a10c",
   "metadata": {},
   "outputs": [],
   "source": []
  },
  {
   "cell_type": "code",
   "execution_count": null,
   "id": "b2254ecf",
   "metadata": {},
   "outputs": [],
   "source": []
  },
  {
   "cell_type": "code",
   "execution_count": null,
   "id": "3c6c350b",
   "metadata": {},
   "outputs": [],
   "source": []
  },
  {
   "cell_type": "code",
   "execution_count": null,
   "id": "735f8bd1",
   "metadata": {},
   "outputs": [],
   "source": []
  },
  {
   "cell_type": "code",
   "execution_count": null,
   "id": "24caba61",
   "metadata": {},
   "outputs": [],
   "source": []
  },
  {
   "cell_type": "code",
   "execution_count": null,
   "id": "ac048f24",
   "metadata": {},
   "outputs": [],
   "source": []
  },
  {
   "cell_type": "code",
   "execution_count": null,
   "id": "d57f8ecb",
   "metadata": {},
   "outputs": [],
   "source": []
  },
  {
   "cell_type": "code",
   "execution_count": null,
   "id": "03685f35",
   "metadata": {},
   "outputs": [],
   "source": []
  },
  {
   "cell_type": "code",
   "execution_count": null,
   "id": "01be05ad",
   "metadata": {},
   "outputs": [],
   "source": []
  },
  {
   "cell_type": "code",
   "execution_count": null,
   "id": "86f9cee5",
   "metadata": {},
   "outputs": [],
   "source": []
  },
  {
   "cell_type": "code",
   "execution_count": null,
   "id": "9c2c0a1d",
   "metadata": {},
   "outputs": [],
   "source": []
  },
  {
   "cell_type": "code",
   "execution_count": null,
   "id": "296c283d",
   "metadata": {},
   "outputs": [],
   "source": []
  },
  {
   "cell_type": "code",
   "execution_count": null,
   "id": "a2bf0209",
   "metadata": {},
   "outputs": [],
   "source": []
  },
  {
   "cell_type": "code",
   "execution_count": null,
   "id": "c6563cd6",
   "metadata": {},
   "outputs": [],
   "source": []
  },
  {
   "cell_type": "code",
   "execution_count": null,
   "id": "6a84f774",
   "metadata": {},
   "outputs": [],
   "source": []
  },
  {
   "cell_type": "code",
   "execution_count": null,
   "id": "1ed5f874",
   "metadata": {},
   "outputs": [],
   "source": []
  },
  {
   "cell_type": "code",
   "execution_count": null,
   "id": "b0493c80",
   "metadata": {},
   "outputs": [],
   "source": []
  },
  {
   "cell_type": "code",
   "execution_count": null,
   "id": "2bdcb8e2",
   "metadata": {},
   "outputs": [],
   "source": []
  },
  {
   "cell_type": "code",
   "execution_count": null,
   "id": "4c98f590",
   "metadata": {},
   "outputs": [],
   "source": []
  },
  {
   "cell_type": "code",
   "execution_count": null,
   "id": "3939a543",
   "metadata": {},
   "outputs": [],
   "source": []
  },
  {
   "cell_type": "code",
   "execution_count": null,
   "id": "9ee5764c",
   "metadata": {},
   "outputs": [],
   "source": []
  },
  {
   "cell_type": "code",
   "execution_count": null,
   "id": "328c1eaf",
   "metadata": {},
   "outputs": [],
   "source": []
  },
  {
   "cell_type": "code",
   "execution_count": null,
   "id": "fe0f9638",
   "metadata": {},
   "outputs": [],
   "source": []
  },
  {
   "cell_type": "code",
   "execution_count": null,
   "id": "a5b7cdd9",
   "metadata": {},
   "outputs": [],
   "source": []
  },
  {
   "cell_type": "code",
   "execution_count": null,
   "id": "93b17b07",
   "metadata": {},
   "outputs": [],
   "source": []
  },
  {
   "cell_type": "code",
   "execution_count": null,
   "id": "99713d49",
   "metadata": {},
   "outputs": [],
   "source": []
  },
  {
   "cell_type": "code",
   "execution_count": null,
   "id": "ee4eb033",
   "metadata": {},
   "outputs": [],
   "source": []
  },
  {
   "cell_type": "code",
   "execution_count": null,
   "id": "cb4ca284",
   "metadata": {},
   "outputs": [],
   "source": []
  }
 ],
 "metadata": {
  "kernelspec": {
   "display_name": "Python 3 (ipykernel)",
   "language": "python",
   "name": "python3"
  },
  "language_info": {
   "codemirror_mode": {
    "name": "ipython",
    "version": 3
   },
   "file_extension": ".py",
   "mimetype": "text/x-python",
   "name": "python",
   "nbconvert_exporter": "python",
   "pygments_lexer": "ipython3",
   "version": "3.9.7"
  }
 },
 "nbformat": 4,
 "nbformat_minor": 5
}
